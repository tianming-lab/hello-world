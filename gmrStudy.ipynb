{
 "cells": [
  {
   "cell_type": "code",
   "execution_count": null,
   "metadata": {
    "ExecuteTime": {
     "end_time": "2020-12-21T07:44:10.301151Z",
     "start_time": "2020-12-21T07:44:10.173144Z"
    }
   },
   "outputs": [],
   "source": [
    "def em(data, priors0, mu0, sigma0):\n",
    "    loglik_threshold = 1e-10\n",
    "    \n",
    "    (nbVar,nbData) = data.shape\n",
    "    nbStates = sigma0.shape[2]\n",
    "    loglik_old=-1.797693134862316e308\n",
    "    nbStep = 0;\n",
    "    \n",
    "    mu = mu0\n",
    "    sigma = sigma0\n",
    "    priors = priors0\n",
    "    \n",
    "    pxi = np.empty((nbData,nbStates))\n",
    "    while True\n",
    "    #E-step\n",
    "        for i in range(0,nbStates): #Compute probability p(x|i)\n",
    "            pxi[:,i] = gaussPDF(data, mu[:,i], sigma[:,:,i])\n",
    "        #Compute posterior probability p(i|x)\n",
    "        pix_tmp =  np.tile(priors,(nbData,1))*pxi\n",
    "        pix = pix_tmp / np.tile(np.mat(np.sum(pix_tmp,axis=1)).T,(1,nbStates))\n",
    "        #Compute cumulated posterior probability\n",
    "        e = np.sum(pix,axis=0)\n",
    "    #M-step\n",
    "        for i in range(0,nbStates):\n",
    "            #Update the priors\n",
    "            priors[i] = e[i] / nbData;\n",
    "            #Update the centers\n",
    "            mu[:,i] = np.dot(data,pix[:,i]) / e[i]\n",
    "            #Update the covariance matrices\n",
    "            data_tmp1 = data - np.tile(mu[:,i],(1,nbData));\n",
    "            sigma[:,:,i] = (np.tile(pix[:,i]',nbVar, 1) .* Data_tmp1*Data_tmp1') / e[i]\n",
    "            #Add a tiny variance to avoid numerical instability\n",
    "            sigma[:,:,i] = sigma[:,:,i] + 1e-5.*diag(ones(nbVar,1))"
   ]
  },
  {
   "cell_type": "markdown",
   "metadata": {},
   "source": [
    "# 采用K-means初始化参数函数"
   ]
  },
  {
   "cell_type": "code",
   "execution_count": 2,
   "metadata": {
    "ExecuteTime": {
     "end_time": "2020-12-21T13:27:53.711149Z",
     "start_time": "2020-12-21T13:27:52.665089Z"
    }
   },
   "outputs": [],
   "source": [
    "from sklearn.cluster import KMeans \n",
    "import numpy as np\n",
    "\n",
    "def em_init_kmeans(data,nbStates):\n",
    "    (nbVar,nbData) = data.shape\n",
    "    kmeans = KMeans(n_clusters=nbStates).fit(data.T)\n",
    "    data_id = kmeans.labels_\n",
    "    centers = kmeans.cluster_centers_\n",
    "    mu = centers.T\n",
    "    priors = np.empty((1,nbStates))\n",
    "    sigma = np.empty((nbVar,nbVar,nbStates))\n",
    "    priors = np.empty((1,nbStates))\n",
    "    sigma = np.empty((nbVar,nbVar,nbStates))\n",
    "    for i in range(0,nbStates):\n",
    "        idtmp = np.where(data_id == i)\n",
    "        priors[0,i] = len(idtmp)\n",
    "        sigma[:,:,i] = np.cov(np.concatenate((data[:,idtmp[0]],data[:,idtmp[0]]),axis=1))\n",
    "        sigma[:,:,i] = sigma[:,:,i] + (1e-5)*np.diag(np.ones((1,nbVar))[0])\n",
    "    priors = priors / np.sum(priors)\n",
    "    return priors,mu,sigma"
   ]
  },
  {
   "cell_type": "markdown",
   "metadata": {},
   "source": [
    "# 多维高斯分布函数"
   ]
  },
  {
   "cell_type": "code",
   "execution_count": 3,
   "metadata": {
    "ExecuteTime": {
     "end_time": "2020-12-21T13:27:56.296297Z",
     "start_time": "2020-12-21T13:27:56.211292Z"
    }
   },
   "outputs": [],
   "source": [
    "import math\n",
    "def gaussPDF(data, mu, sigma):\n",
    "    data = np.array(np.mat(data))\n",
    "    mu = np.array(np.mat(mu))\n",
    "    sigma = np.array(np.mat(sigma))\n",
    "    \n",
    "    (nbVar,nbData) = data.shape\n",
    "    data = data.T - np.tile(mu.T,(nbData,1));\n",
    "    prob = np.sum(np.dot(data,np.linalg.inv(sigma))*data,axis=1)\n",
    "    prob = np.exp(-0.5*prob) / np.sqrt((2*math.pi)**nbVar * (np.absolute(np.linalg.det(sigma))+2.2251e-308))\n",
    "    return prob"
   ]
  },
  {
   "cell_type": "markdown",
   "metadata": {},
   "source": [
    "# 读取数据并初始化参数"
   ]
  },
  {
   "cell_type": "code",
   "execution_count": 4,
   "metadata": {
    "ExecuteTime": {
     "end_time": "2020-12-21T13:27:58.910446Z",
     "start_time": "2020-12-21T13:27:58.857443Z"
    }
   },
   "outputs": [],
   "source": [
    "import scipy.io as scio\n",
    "#可以使用scipy.io中的函数loadmat()读取mat文件\n",
    "import numpy as np\n",
    "from sklearn.cluster import KMeans\n",
    "\n",
    "nbStates=4\n",
    "\n",
    "dataFile = './data/data1.mat'\n",
    "data = scio.loadmat(dataFile)['Data']\n",
    "\n",
    "#priors,mu,sigma = em_init_kmeans(data,nbStates)\n"
   ]
  },
  {
   "cell_type": "markdown",
   "metadata": {},
   "source": [
    "# 高斯混合模型"
   ]
  },
  {
   "cell_type": "code",
   "execution_count": 5,
   "metadata": {
    "ExecuteTime": {
     "end_time": "2020-12-21T13:28:01.379587Z",
     "start_time": "2020-12-21T13:28:01.268581Z"
    }
   },
   "outputs": [],
   "source": [
    "from sklearn.mixture import GaussianMixture\n",
    "gmm = GaussianMixture(n_components = nbStates).fit(data.T)"
   ]
  },
  {
   "cell_type": "markdown",
   "metadata": {},
   "source": [
    "# 高斯回归"
   ]
  },
  {
   "cell_type": "code",
   "execution_count": 9,
   "metadata": {
    "ExecuteTime": {
     "end_time": "2020-12-21T13:28:03.215692Z",
     "start_time": "2020-12-21T13:28:03.185691Z"
    }
   },
   "outputs": [],
   "source": [
    "def gmr(priors, mu, sigma, x, iN, out):\n",
    "    nbData = x.size\n",
    "    nbVar = mu.shape[1]\n",
    "    nbStates = sigma.shape[0]\n",
    "\n",
    "    pxi = np.empty((nbData, nbStates))\n",
    "    for i in range(0, nbStates):\n",
    "        pxi[:, i] = priors[i]*gaussPDF(x, mu[i, iN], sigma[i, iN, iN])\n",
    "    beta = pxi/np.tile(np.sum(pxi, axis=1).reshape(-1, 1), (1, nbStates))\n",
    "    y_tmp = np.empty((2, 100, 4))\n",
    "    for j in range(0, nbStates):\n",
    "        y_tmp[:, :, j] = np.tile(mu[j, out].reshape(-1, 1), (1, nbData)) + np.dot(np.dot(sigma[j, out, iN].reshape(-1, 1),\n",
    "                                                                                         np.linalg.inv(np.array(np.mat(sigma[j, iN, iN])))), (x-np.tile(mu[j, iN], (1, nbData))))\n",
    "    betaTmp=[]\n",
    "    betaTmp.append(beta)\n",
    "    betaTmp.append(beta)\n",
    "    beta_tmp = np.array(betaTmp)\n",
    "    y_tmp2 =beta_tmp * y_tmp;\n",
    "    y = np.sum(y_tmp2,2)                                                                              \n",
    "    \n",
    "    return y, sigma_y"
   ]
  },
  {
   "cell_type": "code",
   "execution_count": 10,
   "metadata": {
    "ExecuteTime": {
     "end_time": "2020-12-21T13:28:04.472764Z",
     "start_time": "2020-12-21T13:28:04.450763Z"
    }
   },
   "outputs": [],
   "source": [
    "x = np.linspace(1,100,100)\n",
    "mu = gmm.means_\n",
    "sigma = gmm.covariances_\n",
    "priors = gmm.weights_\n",
    "iN = [0]\n",
    "out = [1,2]"
   ]
  },
  {
   "cell_type": "code",
   "execution_count": 11,
   "metadata": {
    "ExecuteTime": {
     "end_time": "2020-12-21T13:28:05.350814Z",
     "start_time": "2020-12-21T13:28:05.314812Z"
    }
   },
   "outputs": [],
   "source": [
    "nbData = x.size\n",
    "nbVar = mu.shape[1]\n",
    "nbStates = sigma.shape[0]\n",
    "\n",
    "pxi = np.empty((nbData, nbStates))\n",
    "for i in range(0, nbStates):\n",
    "    pxi[:, i] = priors[i]*gaussPDF(x, mu[i, iN], sigma[i, iN, iN])\n",
    "beta = pxi/np.tile(np.sum(pxi, axis=1).reshape(-1, 1), (1, nbStates))\n",
    "y_tmp = np.empty((2, 100, 4))\n",
    "for j in range(0, nbStates):\n",
    "    y_tmp[:, :, j] = np.tile(mu[j, out].reshape(-1, 1), (1, nbData)) + np.dot(np.dot(sigma[j, out, iN].reshape(-1, 1),\n",
    "                                                                                     np.linalg.inv(np.array(np.mat(sigma[j, iN, iN])))), (x-np.tile(mu[j, iN], (1, nbData))))"
   ]
  },
  {
   "cell_type": "code",
   "execution_count": 12,
   "metadata": {
    "ExecuteTime": {
     "end_time": "2020-12-21T13:28:06.481879Z",
     "start_time": "2020-12-21T13:28:06.470878Z"
    }
   },
   "outputs": [],
   "source": [
    "betaTmp=[]\n",
    "betaTmp.append(beta)\n",
    "betaTmp.append(beta)\n",
    "beta_tmp = np.array(betaTmp)\n",
    "y_tmp2 =beta_tmp * y_tmp;\n",
    "y = np.sum(y_tmp2,2)"
   ]
  },
  {
   "cell_type": "code",
   "execution_count": 14,
   "metadata": {
    "ExecuteTime": {
     "end_time": "2020-12-21T13:32:12.872972Z",
     "start_time": "2020-12-21T13:32:12.539953Z"
    }
   },
   "outputs": [
    {
     "data": {
      "application/vnd.jupyter.widget-view+json": {
       "model_id": "377a72dace2a4b37b3856cd6c87e9696",
       "version_major": 2,
       "version_minor": 0
      },
      "text/plain": [
       "Canvas(toolbar=Toolbar(toolitems=[('Home', 'Reset original view', 'home', 'home'), ('Back', 'Back to previous …"
      ]
     },
     "metadata": {},
     "output_type": "display_data"
    },
    {
     "data": {
      "text/plain": [
       "<function matplotlib.pyplot.show(block=None)>"
      ]
     },
     "execution_count": 14,
     "metadata": {},
     "output_type": "execute_result"
    }
   ],
   "source": [
    "import matplotlib.pyplot as plt\n",
    "%matplotlib widget\n",
    "fig = plt.figure()\n",
    "ax = fig.add_subplot(111)\n",
    "ax.scatter(data[0,0:100],y[0,:])\n",
    "ax.scatter(data[0,0:100],data[1,0:100])\n",
    "ax.scatter(data[0,0:100],y[1,:])\n",
    "ax.scatter(data[0,0:100],data[2,0:100])\n",
    "plt.legend(['预测1','实际1','预测2','实际2'])\n",
    "plt.show"
   ]
  },
  {
   "cell_type": "code",
   "execution_count": 15,
   "metadata": {
    "ExecuteTime": {
     "end_time": "2020-12-21T13:37:01.846500Z",
     "start_time": "2020-12-21T13:37:01.498480Z"
    }
   },
   "outputs": [
    {
     "data": {
      "application/vnd.jupyter.widget-view+json": {
       "model_id": "dfca60fabaf8495881cc1db43cff0dcb",
       "version_major": 2,
       "version_minor": 0
      },
      "text/plain": [
       "Canvas(toolbar=Toolbar(toolitems=[('Home', 'Reset original view', 'home', 'home'), ('Back', 'Back to previous …"
      ]
     },
     "metadata": {},
     "output_type": "display_data"
    },
    {
     "data": {
      "text/plain": [
       "<function matplotlib.pyplot.show(block=None)>"
      ]
     },
     "execution_count": 15,
     "metadata": {},
     "output_type": "execute_result"
    }
   ],
   "source": [
    "fig = plt.figure()\n",
    "ax = fig.add_subplot(111)\n",
    "ax.scatter(data[1,0:100],data[2,0:100])\n",
    "ax.scatter(y[0,0:100],y[1,0:100])\n",
    "plt.show"
   ]
  },
  {
   "cell_type": "code",
   "execution_count": null,
   "metadata": {},
   "outputs": [],
   "source": []
  }
 ],
 "metadata": {
  "kernelspec": {
   "display_name": "Python 3",
   "language": "python",
   "name": "python3"
  },
  "language_info": {
   "codemirror_mode": {
    "name": "ipython",
    "version": 3
   },
   "file_extension": ".py",
   "mimetype": "text/x-python",
   "name": "python",
   "nbconvert_exporter": "python",
   "pygments_lexer": "ipython3",
   "version": "3.8.5"
  },
  "toc": {
   "base_numbering": 1,
   "nav_menu": {},
   "number_sections": true,
   "sideBar": true,
   "skip_h1_title": false,
   "title_cell": "Table of Contents",
   "title_sidebar": "Contents",
   "toc_cell": false,
   "toc_position": {},
   "toc_section_display": true,
   "toc_window_display": false
  },
  "toc-autonumbering": true,
  "varInspector": {
   "cols": {
    "lenName": 16,
    "lenType": 16,
    "lenVar": 40
   },
   "kernels_config": {
    "python": {
     "delete_cmd_postfix": "",
     "delete_cmd_prefix": "del ",
     "library": "var_list.py",
     "varRefreshCmd": "print(var_dic_list())"
    },
    "r": {
     "delete_cmd_postfix": ") ",
     "delete_cmd_prefix": "rm(",
     "library": "var_list.r",
     "varRefreshCmd": "cat(var_dic_list()) "
    }
   },
   "position": {
    "height": "440px",
    "left": "1531px",
    "right": "20px",
    "top": "209px",
    "width": "389px"
   },
   "types_to_exclude": [
    "module",
    "function",
    "builtin_function_or_method",
    "instance",
    "_Feature"
   ],
   "window_display": true
  },
  "widgets": {
   "application/vnd.jupyter.widget-state+json": {
    "state": {
     "1bfa2f166cfc4e38af8e445c7c6135b4": {
      "model_module": "@jupyter-widgets/base",
      "model_module_version": "1.2.0",
      "model_name": "LayoutModel",
      "state": {}
     },
     "1c48c11aaa714c9c9b994bdf30a469dc": {
      "model_module": "jupyter-matplotlib",
      "model_module_version": "^0.7.4",
      "model_name": "ToolbarModel",
      "state": {
       "layout": "IPY_MODEL_ad6b41c3528a49bfac5b3acd24a6c9f6",
       "toolitems": [
        [
         "Home",
         "Reset original view",
         "home",
         "home"
        ],
        [
         "Back",
         "Back to previous view",
         "arrow-left",
         "back"
        ],
        [
         "Forward",
         "Forward to next view",
         "arrow-right",
         "forward"
        ],
        [
         "Pan",
         "Left button pans, Right button zooms\nx/y fixes axis, CTRL fixes aspect",
         "arrows",
         "pan"
        ],
        [
         "Zoom",
         "Zoom to rectangle\nx/y fixes axis, CTRL fixes aspect",
         "square-o",
         "zoom"
        ],
        [
         "Download",
         "Download plot",
         "floppy-o",
         "save_figure"
        ]
       ]
      }
     },
     "377a72dace2a4b37b3856cd6c87e9696": {
      "model_module": "jupyter-matplotlib",
      "model_module_version": "^0.7.4",
      "model_name": "MPLCanvasModel",
      "state": {
       "_cursor": "default",
       "_figure_label": "Figure 1",
       "_height": 480,
       "_width": 640,
       "layout": "IPY_MODEL_f81c763766ee4d77ab0eeb65712f623a",
       "toolbar": "IPY_MODEL_60829d8fcf044c0a94a36e86ee1e7737",
       "toolbar_position": "left"
      }
     },
     "60829d8fcf044c0a94a36e86ee1e7737": {
      "model_module": "jupyter-matplotlib",
      "model_module_version": "^0.7.4",
      "model_name": "ToolbarModel",
      "state": {
       "layout": "IPY_MODEL_f16810590ed240f0ac8545258f170abe",
       "toolitems": [
        [
         "Home",
         "Reset original view",
         "home",
         "home"
        ],
        [
         "Back",
         "Back to previous view",
         "arrow-left",
         "back"
        ],
        [
         "Forward",
         "Forward to next view",
         "arrow-right",
         "forward"
        ],
        [
         "Pan",
         "Left button pans, Right button zooms\nx/y fixes axis, CTRL fixes aspect",
         "arrows",
         "pan"
        ],
        [
         "Zoom",
         "Zoom to rectangle\nx/y fixes axis, CTRL fixes aspect",
         "square-o",
         "zoom"
        ],
        [
         "Download",
         "Download plot",
         "floppy-o",
         "save_figure"
        ]
       ]
      }
     },
     "ad6b41c3528a49bfac5b3acd24a6c9f6": {
      "model_module": "@jupyter-widgets/base",
      "model_module_version": "1.2.0",
      "model_name": "LayoutModel",
      "state": {}
     },
     "dfca60fabaf8495881cc1db43cff0dcb": {
      "model_module": "jupyter-matplotlib",
      "model_module_version": "^0.7.4",
      "model_name": "MPLCanvasModel",
      "state": {
       "_cursor": "default",
       "_figure_label": "Figure 2",
       "_height": 480,
       "_width": 640,
       "layout": "IPY_MODEL_1bfa2f166cfc4e38af8e445c7c6135b4",
       "toolbar": "IPY_MODEL_1c48c11aaa714c9c9b994bdf30a469dc",
       "toolbar_position": "left"
      }
     },
     "f16810590ed240f0ac8545258f170abe": {
      "model_module": "@jupyter-widgets/base",
      "model_module_version": "1.2.0",
      "model_name": "LayoutModel",
      "state": {}
     },
     "f81c763766ee4d77ab0eeb65712f623a": {
      "model_module": "@jupyter-widgets/base",
      "model_module_version": "1.2.0",
      "model_name": "LayoutModel",
      "state": {}
     }
    },
    "version_major": 2,
    "version_minor": 0
   }
  }
 },
 "nbformat": 4,
 "nbformat_minor": 4
}
