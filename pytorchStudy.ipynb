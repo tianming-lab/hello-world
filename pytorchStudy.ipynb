{
 "cells": [
  {
   "cell_type": "code",
   "execution_count": 2,
   "metadata": {},
   "outputs": [
    {
     "name": "stdout",
     "output_type": "stream",
     "text": [
      "tensor([[1.3563e-19, 1.3563e-19, 4.5071e+16, 2.4756e-12, 4.1183e-11],\n",
      "        [1.1704e-19, 1.3563e-19, 1.3563e-19, 4.5071e+16, 2.4756e-12],\n",
      "        [4.1411e-11, 1.1704e-19, 1.3563e-19, 1.3563e-19, 4.5071e+16],\n",
      "        [2.4757e-12, 4.1638e-11, 8.1546e-33, 1.3563e-19, 1.6114e-19]])\n"
     ]
    }
   ],
   "source": [
    "#构造一个4*5的矩阵\n",
    "import torch\n",
    "z = torch.Tensor(4,5)\n",
    "print(z)"
   ]
  },
  {
   "cell_type": "code",
   "execution_count": 2,
   "metadata": {},
   "outputs": [
    {
     "name": "stdout",
     "output_type": "stream",
     "text": [
      "tensor([[ 4.1236e-01,  6.3797e-01, -1.7420e+05,  5.8644e-01, -5.9358e+07],\n",
      "        [ 3.0816e-01, -5.7443e+07,  7.4965e-01, -5.7444e+07,  3.8261e-01],\n",
      "        [-5.7449e+07,  4.7479e-01, -5.7449e+07,  5.2457e-01, -5.7454e+07],\n",
      "        [ 6.6048e-01, -5.7451e+07,  7.3850e-01, -5.7443e+07,  3.7736e-01]])\n"
     ]
    }
   ],
   "source": [
    "#两个矩阵进行加法操作\n",
    "y = torch.rand(4,5)#产生一个四行五列的矩阵\n",
    "print(z+y)"
   ]
  },
  {
   "cell_type": "code",
   "execution_count": 3,
   "metadata": {},
   "outputs": [
    {
     "name": "stdout",
     "output_type": "stream",
     "text": [
      "tensor([[ 4.1236e-01,  6.3797e-01, -1.7420e+05,  5.8644e-01, -5.9358e+07],\n",
      "        [ 3.0816e-01, -5.7443e+07,  7.4965e-01, -5.7444e+07,  3.8261e-01],\n",
      "        [-5.7449e+07,  4.7479e-01, -5.7449e+07,  5.2457e-01, -5.7454e+07],\n",
      "        [ 6.6048e-01, -5.7451e+07,  7.3850e-01, -5.7443e+07,  3.7736e-01]])\n"
     ]
    }
   ],
   "source": [
    "#矩阵加法的另一种表达形式\n",
    "print(torch.add(z,y))"
   ]
  },
  {
   "cell_type": "code",
   "execution_count": 4,
   "metadata": {},
   "outputs": [
    {
     "name": "stdout",
     "output_type": "stream",
     "text": [
      "[[ 4.5656806e-37  4.5633284e-41 -1.7420100e+05  3.0759903e-41\n",
      "  -5.9358272e+07]\n",
      " [ 4.5631883e-41 -5.7442560e+07  4.5631883e-41 -5.7443904e+07\n",
      "   4.5631883e-41]\n",
      " [-5.7448512e+07  4.5631883e-41 -5.7449280e+07  4.5631883e-41\n",
      "  -5.7454272e+07]\n",
      " [ 4.5631883e-41 -5.7451008e+07  4.5631883e-41 -5.7443328e+07\n",
      "   4.5631883e-41]]\n"
     ]
    }
   ],
   "source": [
    "#将Tensor转换为numpy数组\n",
    "b = z.numpy()\n",
    "print(b)"
   ]
  },
  {
   "cell_type": "code",
   "execution_count": 6,
   "metadata": {},
   "outputs": [
    {
     "name": "stdout",
     "output_type": "stream",
     "text": [
      "[2. 2. 2. 2. 2.]\n",
      "tensor([2., 2., 2., 2., 2.], dtype=torch.float64)\n"
     ]
    }
   ],
   "source": [
    "#将Numpy数组转化为Torch张量\n",
    "import numpy as np\n",
    "a = np.ones(5)\n",
    "b = torch.from_numpy(a)\n",
    "np.add(a,1,out=a)\n",
    "print(a)\n",
    "print(b)"
   ]
  },
  {
   "cell_type": "code",
   "execution_count": 11,
   "metadata": {},
   "outputs": [
    {
     "data": {
      "text/plain": [
       "torch.Size([2, 2, 1, 2])"
      ]
     },
     "execution_count": 11,
     "metadata": {},
     "output_type": "execute_result"
    }
   ],
   "source": [
    "#torch.squeeze(input,dim=None,out=None),将输入张量形状中的1去除并返回。当给定dim时，那么挤压操作只在给定维度上。\n",
    "x = torch.zeros(2,1,2,1,2)\n",
    "x.size()"
   ]
  },
  {
   "cell_type": "code",
   "execution_count": 12,
   "metadata": {},
   "outputs": [
    {
     "data": {
      "text/plain": [
       "torch.Size([2, 2, 2])"
      ]
     },
     "execution_count": 12,
     "metadata": {},
     "output_type": "execute_result"
    }
   ],
   "source": [
    "y = torch.squeeze(x)\n",
    "y.size()"
   ]
  },
  {
   "cell_type": "code",
   "execution_count": 17,
   "metadata": {},
   "outputs": [
    {
     "data": {
      "text/plain": [
       "torch.Size([2, 1, 2, 1, 2])"
      ]
     },
     "execution_count": 17,
     "metadata": {},
     "output_type": "execute_result"
    }
   ],
   "source": [
    "y = torch.squeeze(x,0)\n",
    "y.size()"
   ]
  },
  {
   "cell_type": "code",
   "execution_count": 14,
   "metadata": {},
   "outputs": [
    {
     "data": {
      "text/plain": [
       "torch.Size([2, 2, 1, 2])"
      ]
     },
     "execution_count": 14,
     "metadata": {},
     "output_type": "execute_result"
    }
   ],
   "source": [
    "y = torch.squeeze(x,1)\n",
    "y.size()"
   ]
  },
  {
   "cell_type": "code",
   "execution_count": 3,
   "metadata": {},
   "outputs": [
    {
     "data": {
      "text/plain": [
       "tensor([1., 2., 3.])"
      ]
     },
     "execution_count": 3,
     "metadata": {},
     "output_type": "execute_result"
    }
   ],
   "source": [
    "#torch.abs(input,out=None),计算输入张量的每个元素的绝对值\n",
    "torch.abs(torch.FloatTensor([-1,-2,3]))"
   ]
  },
  {
   "cell_type": "code",
   "execution_count": 4,
   "metadata": {},
   "outputs": [],
   "source": [
    "#torch.acos(input,out=None),返回一个新的张量，包含输入张量每个元素的反余弦。"
   ]
  },
  {
   "cell_type": "code",
   "execution_count": 8,
   "metadata": {},
   "outputs": [
    {
     "name": "stdout",
     "output_type": "stream",
     "text": [
      "tensor([-1.8237, -1.9054,  0.2449,  1.9239])\n"
     ]
    },
    {
     "data": {
      "text/plain": [
       "tensor([18.1763, 18.0946, 20.2449, 21.9239])"
      ]
     },
     "execution_count": 8,
     "metadata": {},
     "output_type": "execute_result"
    }
   ],
   "source": [
    "#torch.add(input,value,out=None),对输入张量input逐元素加上标量值value，并返回结果得到一个新的张量out\n",
    "a = torch.randn(4)\n",
    "print(a)\n",
    "torch.add(a,20)"
   ]
  },
  {
   "cell_type": "code",
   "execution_count": 12,
   "metadata": {},
   "outputs": [
    {
     "name": "stdout",
     "output_type": "stream",
     "text": [
      "tensor([[ 0.0704, -0.9960, -0.2251]])\n"
     ]
    },
    {
     "data": {
      "text/plain": [
       "tensor(-0.3836)"
      ]
     },
     "execution_count": 12,
     "metadata": {},
     "output_type": "execute_result"
    }
   ],
   "source": [
    "#torch.mean(input),返回输入张量所有元素的均值\n",
    "a = torch.randn(1,3)\n",
    "print(a)\n",
    "torch.mean(a)"
   ]
  },
  {
   "cell_type": "code",
   "execution_count": 15,
   "metadata": {},
   "outputs": [
    {
     "name": "stdout",
     "output_type": "stream",
     "text": [
      "tensor([[ 0.4417,  1.6805,  0.9165,  0.9715],\n",
      "        [ 0.1796,  0.1889, -0.6740,  0.7853],\n",
      "        [-0.9095, -0.2025, -1.4359,  0.4769],\n",
      "        [-1.9075,  0.0790, -0.6905,  0.2836]])\n"
     ]
    },
    {
     "data": {
      "text/plain": [
       "tensor([ 1.0025,  0.1199, -0.5178, -0.5589])"
      ]
     },
     "execution_count": 15,
     "metadata": {},
     "output_type": "execute_result"
    }
   ],
   "source": [
    "#torch.mean(input,dim,out=None),返回输入张量给定维度dim上每行的均值\n",
    "a = torch.randn(4,4)\n",
    "print(a)\n",
    "torch.mean(a,dim=1)"
   ]
  },
  {
   "cell_type": "code",
   "execution_count": 18,
   "metadata": {},
   "outputs": [
    {
     "data": {
      "text/plain": [
       "tensor([-0.5489,  0.4364, -0.4710,  0.6293])"
      ]
     },
     "execution_count": 18,
     "metadata": {},
     "output_type": "execute_result"
    }
   ],
   "source": [
    "torch.mean(a,dim=0)"
   ]
  },
  {
   "cell_type": "code",
   "execution_count": 20,
   "metadata": {},
   "outputs": [
    {
     "data": {
      "text/plain": [
       "tensor([[ True, False],\n",
       "        [False,  True]])"
      ]
     },
     "execution_count": 20,
     "metadata": {},
     "output_type": "execute_result"
    }
   ],
   "source": [
    "#torch.eq(input,other,out=None),比较元素的相等性。第二个参数可为一个数或与第一个参数同类型形状的张量\n",
    "torch.eq(torch.Tensor([[1,2],[3,4]]),torch.Tensor([[1,1],[4,4]]))"
   ]
  },
  {
   "cell_type": "code",
   "execution_count": 22,
   "metadata": {},
   "outputs": [
    {
     "data": {
      "text/plain": [
       "True"
      ]
     },
     "execution_count": 22,
     "metadata": {},
     "output_type": "execute_result"
    }
   ],
   "source": [
    "#如果俩个张量有相同的形状和元素值，则返回True，否则False\n",
    "torch.equal(torch.Tensor([[1,2],[3,4]]),torch.Tensor([[1,2],[3,4]]))"
   ]
  },
  {
   "cell_type": "code",
   "execution_count": 23,
   "metadata": {},
   "outputs": [
    {
     "data": {
      "text/plain": [
       "tensor([[ True,  True],\n",
       "        [False,  True]])"
      ]
     },
     "execution_count": 23,
     "metadata": {},
     "output_type": "execute_result"
    }
   ],
   "source": [
    "torch.ge(torch.Tensor([[1,2],[3,4]]),torch.Tensor([[1,1],[4,4]]))"
   ]
  },
  {
   "cell_type": "code",
   "execution_count": 24,
   "metadata": {},
   "outputs": [
    {
     "data": {
      "text/plain": [
       "tensor([[False,  True],\n",
       "        [False, False]])"
      ]
     },
     "execution_count": 24,
     "metadata": {},
     "output_type": "execute_result"
    }
   ],
   "source": [
    "torch.gt(torch.Tensor([[1,2],[3,4]]),torch.Tensor([[1,1],[4,4]]))"
   ]
  },
  {
   "cell_type": "code",
   "execution_count": null,
   "metadata": {},
   "outputs": [],
   "source": []
  }
 ],
 "metadata": {
  "kernelspec": {
   "display_name": "Python 3",
   "language": "python",
   "name": "python3"
  },
  "language_info": {
   "codemirror_mode": {
    "name": "ipython",
    "version": 3
   },
   "file_extension": ".py",
   "mimetype": "text/x-python",
   "name": "python",
   "nbconvert_exporter": "python",
   "pygments_lexer": "ipython3",
   "version": "3.8.5"
  }
 },
 "nbformat": 4,
 "nbformat_minor": 4
}
